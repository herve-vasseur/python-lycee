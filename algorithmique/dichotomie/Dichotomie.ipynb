{
 "cells": [
  {
   "cell_type": "markdown",
   "metadata": {},
   "source": [
    "<div class =\"alert alert-warning\">   \n",
    "    \n",
    "    \n",
    "notebook consultable, exécutable, modifiable et téléchargeable en ligne :     \n",
    "    \n",
    "\t\n",
    "- se rendre à : https://github.com/nsi-acot/continuite_pedagogique_premiere\n",
    "- cliquer sur l'icone \"launch binder\" en bas de page\n",
    "- patienter quelques secondes que le serveur Jupyter démarre\n",
    "- naviguer dans le dossier `\"./algorithmique/dichotomie/\"`\n",
    "- cliquer sur le nom de ce notebook\n",
    "</div>"
   ]
  },
  {
   "cell_type": "markdown",
   "metadata": {},
   "source": [
    "# <center> DICHOTOMIE </center>\n",
    "### <center> Diviser pour régner </center>\n",
    "### <center> Comment rechercher efficacement la présence d'un élément dans un tableau et le localiser ? </center>"
   ]
  },
  {
   "cell_type": "code",
   "execution_count": 2,
   "metadata": {},
   "outputs": [
    {
     "name": "stdout",
     "output_type": "stream",
     "text": [
      "62797\n"
     ]
    }
   ],
   "source": [
    "#L est une liste contenant N entiers choisis au hasard entre 0 et N.\n",
    "#n est entier dont on est sûr qu'il est dans la liste L\n",
    "from random import *\n",
    "N=10**5\n",
    "L=[randint(0,N) for i in range(N)]\n",
    "n=choice(L)\n",
    "print(n)"
   ]
  },
  {
   "cell_type": "markdown",
   "metadata": {},
   "source": [
    "## 1. Par balayage"
   ]
  },
  {
   "cell_type": "markdown",
   "metadata": {},
   "source": [
    "#### Exercice 1 :\n",
    "1. `n` est un entier, `L` est une liste. Décrire ce que fait la fonction`recherche(n,L)` ci-dessous :"
   ]
  },
  {
   "cell_type": "code",
   "execution_count": 15,
   "metadata": {},
   "outputs": [
    {
     "data": {
      "text/plain": [
       "True"
      ]
     },
     "execution_count": 15,
     "metadata": {},
     "output_type": "execute_result"
    }
   ],
   "source": [
    "def recherche(n,L):\n",
    "    i=0\n",
    "    while i<len(L):\n",
    "        if L[i] == n:\n",
    "            return True\n",
    "        i=i+1\n",
    "        \n",
    "    return False\n",
    "\n",
    "recherche(n,L)"
   ]
  },
  {
   "cell_type": "markdown",
   "metadata": {},
   "source": [
    "Réponse :\n",
    "*  \n",
    "*  \n",
    "*  "
   ]
  },
  {
   "cell_type": "markdown",
   "metadata": {},
   "source": [
    "2. Le modifier pour qu'il renvoie l'index de l'élément recherché, si l'élément est présent et `False` sinon."
   ]
  },
  {
   "cell_type": "code",
   "execution_count": 3,
   "metadata": {},
   "outputs": [
    {
     "data": {
      "text/plain": [
       "False"
      ]
     },
     "execution_count": 3,
     "metadata": {},
     "output_type": "execute_result"
    }
   ],
   "source": [
    "#Réponse :\n",
    "def recherche_index(n,L):\n",
    "    \n",
    "    \n",
    "    \n",
    "    \n",
    "        \n",
    "    return False\n",
    "\n",
    "recherche_index(n,L)"
   ]
  },
  {
   "cell_type": "markdown",
   "metadata": {},
   "source": [
    "3. Quelle est la complexité de cet algorithme ?"
   ]
  },
  {
   "cell_type": "markdown",
   "metadata": {},
   "source": [
    "Réponse :\n",
    "\n",
    "*  \n",
    "*  "
   ]
  },
  {
   "cell_type": "markdown",
   "metadata": {},
   "source": [
    "## 2. Par recherche dichotomique\n",
    "### Diviser pour régner\n",
    "\n",
    "#### Exercice 2: \n",
    "<a href='http://castor-informatique.fr/questions/2014/2014-FR-03-monster/' ><img src='monstre.png' width=600 ></a>\n",
    "1. Cliquer sur l'image ci-sessus et résoudre l'énigme: Quel est le plus petit nombre de barrages à poser ?\n",
    "\n",
    "Réponse : \n",
    "*  "
   ]
  },
  {
   "cell_type": "markdown",
   "metadata": {},
   "source": [
    "2. Quelle stratégie est la plus efficace ?\n",
    "\n",
    "Réponse : \n",
    "\n",
    "*  \n",
    "*  \n",
    "*  \n",
    "\n",
    " "
   ]
  },
  {
   "cell_type": "markdown",
   "metadata": {},
   "source": [
    "#### Exercice 3 :\n",
    "Exécuter le code du jeu ci-dessous et gagner une partie en le moins de coups possibles en utilisant une recherche par dichotomie.\n",
    "1. Dans le pire des cas, combien de propositions sont nécéssaires pour gagner en utilisant cette stratégie ?\n",
    "2. A chaque étape, comment calculer la proposition à formuler ?"
   ]
  },
  {
   "cell_type": "code",
   "execution_count": 29,
   "metadata": {},
   "outputs": [
    {
     "data": {
      "text/html": [
       "<h3 id='h3'>J'ai choisi un nombre entier entre 0 et 128. Deviner ce nombre.</h3>\n",
       "<form id='form'>\n",
       "<label for=\"proposition\">Quelle est votre proposition ? </label>\n",
       "<input type=\"text\" id=\"proposition\" name=\"proposition\"><br>\n",
       "<input id='button' type=\"button\" value=\"Valider\", onclick=calcul()>\n",
       "</form>\n",
       "<h4 id='h4'></h4>\n",
       "<h4 id='h4-2'></h4>\n",
       "<h4 id='h4-3'></h4>\n",
       "<script type=\"text/javascript\" src=\"devine.js\"></script>\n"
      ],
      "text/plain": [
       "<IPython.core.display.HTML object>"
      ]
     },
     "metadata": {},
     "output_type": "display_data"
    }
   ],
   "source": [
    "%%html\n",
    "<h3 id='h3'>J'ai choisi un nombre entier entre 0 et 128. Deviner ce nombre.</h3>\n",
    "<form id='form'>\n",
    "<label for=\"proposition\">Quelle est votre proposition ? </label>\n",
    "<input type=\"text\" id=\"proposition\" name=\"proposition\"><br>\n",
    "<input id='button' type=\"button\" value=\"Valider\", onclick=calcul()>\n",
    "</form>\n",
    "<h4 id='h4'></h4>\n",
    "<h4 id='h4-2'></h4>\n",
    "<h4 id='h4-3'></h4>\n",
    "<script type=\"text/javascript\" src=\"devine.js\"></script>"
   ]
  },
  {
   "cell_type": "markdown",
   "metadata": {},
   "source": [
    "Réponses:\n",
    "1.  \n",
    "2.  "
   ]
  },
  {
   "cell_type": "markdown",
   "metadata": {},
   "source": [
    "### Algorithme\n",
    "* Pour pouvoir effectuer une recherche dichotomique, __il faut que la liste soit triée__.\n",
    "* Voici l'écriture d'un algorithme de recherche dichotomique d'un élément dans une liste d'entiers triée en ordre croissant. Si l'élément est présent, son index est renvoyé, sinon le booléen `False` est renvoyé.\n",
    "\n",
    "\n",
    "$(1)\\; L \\; est\\;une\\;liste\\;d'entiers \\;triée, n\\;est\\;un\\;entier\\\\\n",
    "(2)\\; g \\leftarrow 0\\\\\n",
    "(3)\\; d \\leftarrow dernier \\;index\\; de\\; la\\; liste\\\\\n",
    "(4)\\; Tant\\; que\\; g \\leq d \\\\\n",
    "(5)\\; \\; \\; \\; \\;  m \\leftarrow (g+d)//2\\\\\n",
    "(6)\\; \\; \\; \\; \\;  Si\\; L[m]=n \\\\\n",
    "(7)\\; \\; \\; \\; \\; \\; \\; \\; \\;Renvoyer\\; m \\\\\n",
    "(8)\\; \\; \\; \\; \\;  Sinon\\\\  \n",
    "(9)\\; \\; \\; \\; \\; \\; \\; \\; \\;Si\\; L[m]>n \\\\ \n",
    "(10)\\;\\; \\; \\; \\; \\; \\; \\; \\;\\; \\; \\; \\;d \\leftarrow m-1\\\\\n",
    "(11)\\; \\; \\; \\; \\; \\; \\; \\; Sinon \\\\ \n",
    "(12)\\;\\; \\; \\; \\; \\; \\; \\; \\;\\; \\; \\; \\;g \\leftarrow m+1\\\\ \n",
    "(13)\\; Renvoyer\\; False$"
   ]
  },
  {
   "cell_type": "markdown",
   "metadata": {},
   "source": [
    "#### Exercice 4 :\n",
    "On considère la liste `L=[2,5,8,11,15,20,32]` et l'entier `n=20`.\n",
    "1. Compléter la trace de l'algorithme ci-dessous."
   ]
  },
  {
   "cell_type": "markdown",
   "metadata": {},
   "source": [
    "|ligne| g   | d  | m  | \n",
    "|:-:  |:-:  |:-: |:-: |\n",
    "|(1)  | ?   | ?  | ?  |\n",
    "|(2)  | 0   | ?  | ?  |\n",
    "|(3)  | 0   | 6  | ?  |\n",
    "|                     |\n",
    "|(4)  | 0   | 6  | ?  |\n",
    "|(5)  | 0   | 6  | 3  |\n",
    "|(6)  | .   | .  | .  |\n",
    "|(9)  | .   | .  | .  |\n",
    "|(12) | .   | .  | .  |\n",
    "|                     |\n",
    "|(4)  | .   | .  | .  |\n",
    "|(5)  | .   | .  | .  |\n",
    "|(6)  | .   | .  | .  |\n",
    "|(7)  | .   | .  | .  |\n"
   ]
  },
  {
   "cell_type": "markdown",
   "metadata": {},
   "source": [
    "2. Combien de fois la ligne (4) est-elle lue ?"
   ]
  },
  {
   "cell_type": "markdown",
   "metadata": {},
   "source": [
    "Réponse : "
   ]
  },
  {
   "cell_type": "markdown",
   "metadata": {},
   "source": [
    "3. Si l'entier cherché est le dernier de la liste `L`, combien de fois la ligne (4) sera-t-elle lue ?"
   ]
  },
  {
   "cell_type": "markdown",
   "metadata": {},
   "source": [
    "Réponse : "
   ]
  },
  {
   "cell_type": "markdown",
   "metadata": {},
   "source": [
    "4. Combien de fois la ligne (4) est-elle lue lorsque l'entier cherché n'est pas dans la liste ?"
   ]
  },
  {
   "cell_type": "markdown",
   "metadata": {},
   "source": [
    "Réponse : "
   ]
  },
  {
   "cell_type": "markdown",
   "metadata": {},
   "source": [
    "#### Synthèse : \n",
    "* Cet algorithme est très efficace, même lorsque l'élément cherché est le dernier de la liste.\n",
    "* A chaque étape, le nombre d'éléments restant à analyser est divisé par 2.\n",
    "* Lorsque l'élément cherché n'est pas dans la liste :\n",
    "  * Les variables `g` et `d` finissent par contenir la même valeur.\n",
    "  * L'instruction `Tant que g<d` est alors évaluée `False`.\n",
    "  * On sort ainsi de la boucle et l'algorithme renvoie `False`."
   ]
  },
  {
   "cell_type": "markdown",
   "metadata": {},
   "source": [
    "### Programmation\n",
    "\n",
    "#### Exercice 5 :\n",
    "En complétant la fonction `dichotomie(n,L)`ci-dessous, où `n` est entier et `L` une liste d'entiers triée par ordre croissant, programmer cet algorithme."
   ]
  },
  {
   "cell_type": "code",
   "execution_count": 17,
   "metadata": {},
   "outputs": [],
   "source": [
    "#algorithme de recherche dichotomique\n",
    "def dichotomie(n,L):\n",
    "    pass\n",
    "\n",
    "dichotomie(n,sorted(L))"
   ]
  },
  {
   "cell_type": "markdown",
   "metadata": {},
   "source": [
    "### Complexité"
   ]
  },
  {
   "cell_type": "markdown",
   "metadata": {},
   "source": [
    "#### Exercice 6 :\n",
    "1. Modifier la fonction de l'exercice 5 pour qu'elle renvoie également le nombre de fois ou l'instruction `while` est lue."
   ]
  },
  {
   "cell_type": "code",
   "execution_count": null,
   "metadata": {},
   "outputs": [],
   "source": [
    "N=10**5\n",
    "L=[randint(0,N) for i in range(N)]\n",
    "n=choice(L)\n",
    "\n",
    "def dichotomie_N(n,L):\n",
    "    pass\n",
    "\n",
    "print(n) #entier recherché\n",
    "dichotomie_N(n,sorted(L)) #position de l'entier et nombre de passages dans la boucle"
   ]
  },
  {
   "cell_type": "markdown",
   "metadata": {},
   "source": [
    "2. Combien d'éléments contient la liste testée? Combien de passages dans la boucle `while`(Exécuter le code plusieurs fois) ?"
   ]
  },
  {
   "cell_type": "markdown",
   "metadata": {},
   "source": [
    "Réponse :\n",
    "\n",
    "*  \n",
    "*  "
   ]
  },
  {
   "cell_type": "markdown",
   "metadata": {},
   "source": [
    "#### Synthèse\n"
   ]
  },
  {
   "cell_type": "markdown",
   "metadata": {},
   "source": [
    "<img src=graph.png style='float:right;' width=500>\n",
    "\n",
    "* La complexité de l'algorithme de recherche dichotomique est dite logarithmique,c'est à dire de l'ordre du logarithme en base 2 de $n$ ( notée $\\log_2(n)$,du nom d'une fonction que vous étudierez en terminale) ou $n$ est la taille de l'entrée, c'est à dire ici la longueur de la liste.\n",
    "* Cela vient du fait que l'on divise par $2$ le nombre de possibilités à explorer à chaque étape\n",
    "* Exemples : \n",
    "  * Pour une liste de 128 éléments, il faut au maximum  $log_2(128) = 7$ étapes.\n",
    "  * Pour une liste de 1 millions d'éléments, il faut au maximum $log_2(1000000) \\approx 20$ étapes."
   ]
  },
  {
   "cell_type": "markdown",
   "metadata": {},
   "source": [
    "# <center> FIN </center>"
   ]
  }
 ],
 "metadata": {
  "kernelspec": {
   "display_name": "Python 3",
   "language": "python",
   "name": "python3"
  },
  "language_info": {
   "codemirror_mode": {
    "name": "ipython",
    "version": 3
   },
   "file_extension": ".py",
   "mimetype": "text/x-python",
   "name": "python",
   "nbconvert_exporter": "python",
   "pygments_lexer": "ipython3",
   "version": "3.8.2"
  }
 },
 "nbformat": 4,
 "nbformat_minor": 2
}
